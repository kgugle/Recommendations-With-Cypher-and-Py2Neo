{
 "cells": [
  {
   "cell_type": "markdown",
   "metadata": {},
   "source": [
    "# Why Graph Databases?\n",
    "\n",
    "In a world where connectivity between people dominates the technology landscape, having a database that accurately represents relationship data from user to user is essential. Without it, the speed at which Facebook an LinkedIn allow you to add and go through mutual friends, browse through user profiles, and view a curated list of posts would not be possible. Almost all Relational Databases (SQLite, MongoDB, Oracle) require the computation of relationships between data, graphDB's store them between nodes, thus \n",
    "\n",
    "In this tutorial, we cover one of the most common graph databses, Neo4j, and examine its query language, Cypher, which will lead us to create a graph representation of the IMDB movie dataset. Using more advanced Cypher queries and concepts from recommender systems, we can build a simple recommendation engine for all users.\n",
    "\n",
    "What we will learn in this tutorial and when:\n",
    "1. What is Cypher and how do we use it?\n",
    "2. Basic Cypher queries and Not-So-Basic Cypher queries with Py2Neo\n",
    "3. Importing the IMDB Movie Dataset as a graph in Neo4j\n",
    "4. Theories and Concepts in Recommender Systems\n",
    "4. Using Cypher to generate recommendations"
   ]
  },
  {
   "cell_type": "markdown",
   "metadata": {
    "collapsed": true
   },
   "source": [
    "We can install py2neo with pip with the command below."
   ]
  },
  {
   "cell_type": "code",
   "execution_count": 9,
   "metadata": {
    "collapsed": false
   },
   "outputs": [
    {
     "name": "stdout",
     "output_type": "stream",
     "text": [
      "Requirement already satisfied (use --upgrade to upgrade): py2neo in /Users/Karan/anaconda2/lib/python2.7/site-packages\r\n"
     ]
    }
   ],
   "source": [
    "!pip install py2neo"
   ]
  },
  {
   "cell_type": "markdown",
   "metadata": {},
   "source": [
    "# Understanding Cypher and the Property Graph Model\n",
    "\n",
    "\n",
    "Cypher is the query language for Neo4j, the graphDB we wll be using in this tutorial. It uses ASCII-art to make queries easily readable yet fully functional.\n",
    "\n",
    "There are 2 main blocks of the property graph model used by Neo4j, Node and Relationship. A Node is somewhat self-explanatory: it is the primary unit of data storage within a graph and contains key-value pairs. The key is used to identify the node (e.g. In the IMDB dataset, the show title \"Game of Throne\" or the reviewer's User ID may be the key). The values represent multiple attributes of the object the key is describing (e.g. In the same dataset, the movie's directors/lead actors and its star rating or the reviewer's name, location, and email address could be values). A relationship is a typed, direct connection/edge between a pair of nodes. Like nodes, relationships may also contain a set of properties.\n",
    "\n",
    "The code below shows how to create a couple of nodes and a relationship joining them. Each node has a single property, name, and is labelled as a Person. The relationship ab describes a KNOWS connection from the first node a to the second node b."
   ]
  },
  {
   "cell_type": "code",
   "execution_count": 10,
   "metadata": {
    "collapsed": false
   },
   "outputs": [
    {
     "name": "stdout",
     "output_type": "stream",
     "text": [
      "(hodor)-[:KNOWS]->(arya)\n"
     ]
    }
   ],
   "source": [
    "import py2neo\n",
    "def connectToNeo():\n",
    "    a = Node(\"Person\", name=\"Hodor\")\n",
    "    b = Node(\"Person\", name=\"Arya\")\n",
    "    ab = Relationship(a, \"KNOWS\", b)\n",
    "    return ab\n",
    "\n",
    "print(connectToNeo())"
   ]
  },
  {
   "cell_type": "code",
   "execution_count": 15,
   "metadata": {
    "collapsed": false
   },
   "outputs": [
    {
     "ename": "SyntaxError",
     "evalue": "invalid syntax (<ipython-input-15-3a3f1522434d>, line 1)",
     "output_type": "error",
     "traceback": [
      "\u001b[0;36m  File \u001b[0;32m\"<ipython-input-15-3a3f1522434d>\"\u001b[0;36m, line \u001b[0;32m1\u001b[0m\n\u001b[0;31m    CREATE (TheMatrix:Movie {title:'The Matrix', released:1999, tagline:'Welcome to the Real World'})\u001b[0m\n\u001b[0m                     ^\u001b[0m\n\u001b[0;31mSyntaxError\u001b[0m\u001b[0;31m:\u001b[0m invalid syntax\n"
     ]
    }
   ],
   "source": [
    "def build_graph():   \n",
    "    with open('query.txt', 'r') as IMDB_query:\n",
    "        query = IMDB_query.read()\n",
    "    \n"
   ]
  },
  {
   "cell_type": "code",
   "execution_count": null,
   "metadata": {
    "collapsed": true
   },
   "outputs": [],
   "source": []
  }
 ],
 "metadata": {
  "anaconda-cloud": {},
  "kernelspec": {
   "display_name": "Python [conda root]",
   "language": "python",
   "name": "conda-root-py"
  },
  "language_info": {
   "codemirror_mode": {
    "name": "ipython",
    "version": 2
   },
   "file_extension": ".py",
   "mimetype": "text/x-python",
   "name": "python",
   "nbconvert_exporter": "python",
   "pygments_lexer": "ipython2",
   "version": "2.7.12"
  }
 },
 "nbformat": 4,
 "nbformat_minor": 0
}
